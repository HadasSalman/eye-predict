{
 "cells": [
  {
   "cell_type": "markdown",
   "metadata": {},
   "source": [
    "# EyePredict CNN"
   ]
  },
  {
   "cell_type": "code",
   "execution_count": 6,
   "metadata": {},
   "outputs": [],
   "source": [
    "import numpy as np\n",
    "import pandas as pd \n",
    "import pickle\n",
    "import math\n",
    "%matplotlib inline\n",
    "import matplotlib.pyplot as plt\n",
    "import tensorflow as tf\n",
    "\n",
    "from random import shuffle\n",
    "from __future__ import absolute_import\n",
    "from __future__ import division\n",
    "from __future__ import print_function\n",
    "from sklearn.model_selection import train_test_split\n",
    "from sklearn.preprocessing import StandardScaler\n",
    "from sklearn.decomposition import PCA"
   ]
  },
  {
   "cell_type": "code",
   "execution_count": 7,
   "metadata": {},
   "outputs": [],
   "source": [
    "def load_data():\n",
    "    print(\"log....Loading the data\" )\n",
    "    with open('labels_data.pickle', 'rb') as handle:\n",
    "        labelsData = pickle.load(handle)\n",
    "    with open('samples_data.pickle', 'rb') as handle:\n",
    "        samplesData = pickle.load(handle)\n",
    "        \n",
    "    #create one df for shuffel\n",
    "    allData = pd.DataFrame(\n",
    "        {'samples_data': samplesData,\n",
    "         'labels_data': labelsData\n",
    "        })\n",
    "    #shuffel the data\n",
    "    allData = allData.sample(frac=1).reset_index(drop=True)\n",
    "\n",
    "    #separate the data to samples and lables again\n",
    "    X = allData.samples_data\n",
    "    y = allData.labels_data\n",
    "\n",
    "    #flatten the samples\n",
    "    flattendX = []\n",
    "    for sample in X:\n",
    "        flattendX.append(sample.flatten()) \n",
    "\n",
    "    # test_size: what proportion of original data is used for test set\n",
    "    train_sample, test_sample, train_lbl, test_lbl = train_test_split(\n",
    "        flattendX, y, test_size=1/7.0, random_state=0)\n",
    "\n",
    "    train_sample = np.float32(np.asarray(train_sample))\n",
    "    test_sample = np.float32(np.asarray(test_sample))\n",
    "    train_lbl = np.int32(np.asarray(train_lbl))\n",
    "    test_lbl = np.int32(np.asarray(test_lbl))\n",
    "    print(\"log....Done prepering the data\" )\n",
    "    return train_sample, test_sample, train_lbl, test_lbl"
   ]
  },
  {
   "cell_type": "code",
   "execution_count": 8,
   "metadata": {},
   "outputs": [],
   "source": [
    "def standardize_data(train_data, test_data):\n",
    "    #Standardize the Data\n",
    "    scaler = StandardScaler()\n",
    "    # Fit on training set only.\n",
    "    scaler.fit(train_data)\n",
    "    # Apply transform to both the training set and the test set.\n",
    "    train_data = scaler.transform(train_data)\n",
    "    test_data = scaler.transform(test_data)\n",
    "    \n",
    "    return train_data, test_data"
   ]
  },
  {
   "cell_type": "code",
   "execution_count": 9,
   "metadata": {},
   "outputs": [],
   "source": [
    "def pca_transform(train_data, test_data):\n",
    "    # Make an instance of the Model\n",
    "    pca = PCA(.95)\n",
    "    \n",
    "    #Apply the mapping (transform) to both the training set and the test set\n",
    "    pca.fit(train_data)\n",
    "    \n",
    "    train_data = pca.transform(train_data)\n",
    "    test_data = pca.transform(test_data)\n",
    "    \n",
    "    return train_data, test_data"
   ]
  },
  {
   "cell_type": "code",
   "execution_count": 10,
   "metadata": {},
   "outputs": [],
   "source": [
    "def data_reshape(data):\n",
    "    #Add Padding to the samples to be on size 3600\n",
    "    data_resized_list = []\n",
    "    total_pad_to_add = 3600 - data.shape[1]\n",
    "    pad_to_each_axes = total_pad_to_add/2\n",
    "    x_axis = math.floor(pad_to_each_axes)\n",
    "    y_axis = math.ceil(pad_to_each_axes)\n",
    "    for sample in data:\n",
    "        tempSample = np.pad(sample, (x_axis,y_axis), 'constant', constant_values=(0, 0))\n",
    "        sqrtShape = int(math.sqrt(tempSample.shape[0]))\n",
    "        data_resized_list.append(tempSample.reshape(sqrtShape,sqrtShape))\n",
    "    return np.asarray(data_resized_list), sqrtShape"
   ]
  },
  {
   "cell_type": "code",
   "execution_count": 11,
   "metadata": {},
   "outputs": [
    {
     "ename": "SyntaxError",
     "evalue": "unexpected EOF while parsing (<ipython-input-11-49b6af507ce2>, line 1)",
     "output_type": "error",
     "traceback": [
      "\u001b[0;36m  File \u001b[0;32m\"<ipython-input-11-49b6af507ce2>\"\u001b[0;36m, line \u001b[0;32m1\u001b[0m\n\u001b[0;31m    def logistic_regresion(features, labels, mode):\u001b[0m\n\u001b[0m                                                   ^\u001b[0m\n\u001b[0;31mSyntaxError\u001b[0m\u001b[0;31m:\u001b[0m unexpected EOF while parsing\n"
     ]
    }
   ],
   "source": [
    "def logistic_regresion(features, labels, mode):\n"
   ]
  },
  {
   "cell_type": "markdown",
   "metadata": {},
   "source": [
    "## Load Data"
   ]
  },
  {
   "cell_type": "code",
   "execution_count": null,
   "metadata": {},
   "outputs": [],
   "source": [
    "# Load training and eval data\n",
    "train_data, eval_data, train_labels, eval_labels = load_data()"
   ]
  },
  {
   "cell_type": "markdown",
   "metadata": {},
   "source": [
    "## Standardize The Data"
   ]
  },
  {
   "cell_type": "code",
   "execution_count": null,
   "metadata": {},
   "outputs": [],
   "source": [
    "train_labels = train_labels - 1\n",
    "eval_labels = eval_labels - 1"
   ]
  },
  {
   "cell_type": "code",
   "execution_count": null,
   "metadata": {},
   "outputs": [],
   "source": [
    "#standardize\n",
    "train_data, eval_data = standardize_data(train_data, eval_data)"
   ]
  },
  {
   "cell_type": "markdown",
   "metadata": {},
   "source": [
    "## Run PCA Transform"
   ]
  },
  {
   "cell_type": "code",
   "execution_count": null,
   "metadata": {},
   "outputs": [],
   "source": [
    "#pca\n",
    "train_data, eval_data = pca_transform(train_data, eval_data)"
   ]
  },
  {
   "cell_type": "markdown",
   "metadata": {},
   "source": [
    "## Reshape The Data To fit Tensor"
   ]
  },
  {
   "cell_type": "code",
   "execution_count": null,
   "metadata": {},
   "outputs": [],
   "source": [
    "#padding\n",
    "train_data, shape = data_reshape(train_data)\n",
    "eval_data, shape = data_reshape(eval_data)"
   ]
  },
  {
   "cell_type": "code",
   "execution_count": null,
   "metadata": {},
   "outputs": [],
   "source": [
    "for data in eval_labels:\n",
    "    if np.any(np.isnan(data)):\n",
    "        print('NAN')"
   ]
  },
  {
   "cell_type": "markdown",
   "metadata": {},
   "source": [
    "## Run LR Model"
   ]
  },
  {
   "cell_type": "code",
   "execution_count": null,
   "metadata": {},
   "outputs": [],
   "source": []
  },
  {
   "cell_type": "code",
   "execution_count": null,
   "metadata": {},
   "outputs": [],
   "source": []
  }
 ],
 "metadata": {
  "kernelspec": {
   "display_name": "Python 3",
   "language": "python",
   "name": "python3"
  },
  "language_info": {
   "codemirror_mode": {
    "name": "ipython",
    "version": 3
   },
   "file_extension": ".py",
   "mimetype": "text/x-python",
   "name": "python",
   "nbconvert_exporter": "python",
   "pygments_lexer": "ipython3",
   "version": "3.6.6"
  }
 },
 "nbformat": 4,
 "nbformat_minor": 2
}
