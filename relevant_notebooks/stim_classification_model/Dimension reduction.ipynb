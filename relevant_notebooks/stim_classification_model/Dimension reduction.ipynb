{
 "cells": [
  {
   "cell_type": "markdown",
   "metadata": {},
   "source": [
    "# Dimension reduction for samples dataset"
   ]
  },
  {
   "cell_type": "code",
   "execution_count": 9,
   "metadata": {},
   "outputs": [],
   "source": [
    "import numpy as np\n",
    "import pandas as pd \n",
    "import pickle\n",
    "from sklearn.decomposition import IncrementalPCA\n",
    "import math\n",
    "from sklearn.model_selection import train_test_split\n",
    "from sklearn.preprocessing import StandardScaler\n",
    "from sklearn.decomposition import PCA\n",
    "%matplotlib inline\n",
    "import matplotlib.pyplot as plt"
   ]
  },
  {
   "cell_type": "code",
   "execution_count": 2,
   "metadata": {},
   "outputs": [],
   "source": [
    "def load_split_data():\n",
    "    print(\"log....Loading the data\" )\n",
    "    with open('labels_data.pickle', 'rb') as handle:\n",
    "        labelsData = pickle.load(handle)\n",
    "    with open('samples_data.pickle', 'rb') as handle:\n",
    "        samplesData = pickle.load(handle)\n",
    "    \n",
    "    #samplesDataReduced = pca_reduction(200, samplesData)\n",
    "    \n",
    "    #create one df for shuffel\n",
    "    allData = pd.DataFrame(\n",
    "        {'samples_data': samplesData,\n",
    "         'labels_data': labelsData\n",
    "        })\n",
    "    #shuffel the data\n",
    "    allData = allData.sample(frac=1).reset_index(drop=True)\n",
    "\n",
    "    #separate the data to samples and lables again\n",
    "    X = allData.samples_data\n",
    "    y = allData.labels_data\n",
    "    \n",
    "    #plot data sample for comparing after\n",
    "    %matplotlib inline\n",
    "    import matplotlib.pyplot as plt\n",
    "    plt.imshow(X[0])\n",
    "    plt.show()\n",
    "\n",
    "    #flatten the samples\n",
    "    flattendX = []\n",
    "    for sample in X:\n",
    "        flattendX.append(sample.flatten()) \n",
    "\n",
    "    # test_size: what proportion of original data is used for test set\n",
    "    train_data, test_data, train_lbl, test_lbl = train_test_split(\n",
    "        flattendX, y, test_size=1/7.0, random_state=0)\n",
    "\n",
    "    train_data = np.float32(np.asarray(train_data))\n",
    "    test_data = np.float32(np.asarray(test_data))\n",
    "    train_lbl = np.int32(np.asarray(train_lbl))\n",
    "    test_lbl = np.int32(np.asarray(test_lbl))\n",
    "    print(\"log....Done prepering the data\" )\n",
    "    return train_data, test_data, train_lbl, test_lbl"
   ]
  },
  {
   "cell_type": "code",
   "execution_count": 3,
   "metadata": {},
   "outputs": [
    {
     "name": "stdout",
     "output_type": "stream",
     "text": [
      "log....Loading the data\n"
     ]
    },
    {
     "data": {
      "image/png": "[encoded data removed]",
      "text/plain": [
       "<Figure size 432x288 with 1 Axes>"
      ]
     },
     "metadata": {},
     "output_type": "display_data"
    },
    {
     "name": "stdout",
     "output_type": "stream",
     "text": [
      "log....Done prepering the data\n"
     ]
    }
   ],
   "source": [
    "train_data, test_data, train_lbl, test_lbl = load_split_data()"
   ]
  },
  {
   "cell_type": "code",
   "execution_count": 4,
   "metadata": {},
   "outputs": [],
   "source": [
    "def standardize_data(train_data, test_data):\n",
    "    #Standardize the Data\n",
    "    scaler = StandardScaler()\n",
    "    # Fit on training set only.\n",
    "    scaler.fit(train_data)\n",
    "    # Apply transform to both the training set and the test set.\n",
    "    train_data = scaler.transform(train_data)\n",
    "    test_data = scaler.transform(test_data)\n",
    "    \n",
    "    return train_data, test_data"
   ]
  },
  {
   "cell_type": "code",
   "execution_count": 5,
   "metadata": {},
   "outputs": [],
   "source": [
    "def pca_transform(train_data, test_data):\n",
    "    # Make an instance of the Model\n",
    "    pca = PCA(.95)\n",
    "    \n",
    "    #Apply the mapping (transform) to both the training set and the test set\n",
    "    pca.fit(train_data)\n",
    "    \n",
    "    train_data = pca.transform(train_data)\n",
    "    test_data = pca.transform(test_data)\n",
    "    \n",
    "    return train_data, test_data"
   ]
  },
  {
   "cell_type": "code",
   "execution_count": 6,
   "metadata": {},
   "outputs": [],
   "source": [
    "def data_padding(data):\n",
    "    #Add Padding to the samples to be on size 3600\n",
    "    data_resized_list = []\n",
    "    total_pad_to_add = 3600 - data.shape[1]\n",
    "    pad_to_each_axes = total_pad_to_add/2\n",
    "    x_axis = math.floor(pad_to_each_axes)\n",
    "    y_axis = math.ceil(pad_to_each_axes)\n",
    "    for sample in data:\n",
    "        data_resized_list.append(np.pad(sample, (x_axis,y_axis), 'constant', constant_values=(0, 0)))"
   ]
  },
  {
   "cell_type": "code",
   "execution_count": 7,
   "metadata": {},
   "outputs": [
    {
     "data": {
      "text/plain": [
       "(4710, 160801)"
      ]
     },
     "execution_count": 7,
     "metadata": {},
     "output_type": "execute_result"
    }
   ],
   "source": [
    "train_data.shape"
   ]
  },
  {
   "cell_type": "code",
   "execution_count": 10,
   "metadata": {},
   "outputs": [],
   "source": [
    "#standardize\n",
    "train_data, test_data = standardize_data(train_data, test_data)"
   ]
  },
  {
   "cell_type": "code",
   "execution_count": null,
   "metadata": {},
   "outputs": [],
   "source": [
    "#pca\n",
    "train_data, test_data = pca_transform(train_data, test_data)"
   ]
  },
  {
   "cell_type": "code",
   "execution_count": null,
   "metadata": {},
   "outputs": [],
   "source": [
    "#padding\n",
    "train_data_list = data_padding(train_data)\n",
    "test_data_list = data_padding(test_data)"
   ]
  },
  {
   "cell_type": "markdown",
   "metadata": {},
   "source": [
    "## Standardize the Data"
   ]
  },
  {
   "cell_type": "code",
   "execution_count": 5,
   "metadata": {},
   "outputs": [],
   "source": [
    "from sklearn.preprocessing import StandardScaler\n",
    "scaler = StandardScaler()\n",
    "# Fit on training set only.\n",
    "scaler.fit(train_data)\n",
    "# Apply transform to both the training set and the test set.\n",
    "train_data = scaler.transform(train_data)\n",
    "test_data = scaler.transform(test_data)"
   ]
  },
  {
   "cell_type": "markdown",
   "metadata": {},
   "source": [
    "## Import and Apply PCA"
   ]
  },
  {
   "cell_type": "code",
   "execution_count": 6,
   "metadata": {},
   "outputs": [],
   "source": [
    "from sklearn.decomposition import PCA\n",
    "# Make an instance of the Model\n",
    "pca = PCA(.95)"
   ]
  },
  {
   "cell_type": "markdown",
   "metadata": {},
   "source": [
    "## Apply the mapping (transform) to both the training set and the test set"
   ]
  },
  {
   "cell_type": "code",
   "execution_count": 7,
   "metadata": {},
   "outputs": [
    {
     "data": {
      "text/plain": [
       "PCA(copy=True, iterated_power='auto', n_components=0.95, random_state=None,\n",
       "  svd_solver='auto', tol=0.0, whiten=False)"
      ]
     },
     "execution_count": 7,
     "metadata": {},
     "output_type": "execute_result"
    }
   ],
   "source": [
    "pca.fit(train_data)"
   ]
  },
  {
   "cell_type": "code",
   "execution_count": 8,
   "metadata": {},
   "outputs": [],
   "source": [
    "train_data = pca.transform(train_data)\n",
    "test_data = pca.transform(test_data)"
   ]
  },
  {
   "cell_type": "code",
   "execution_count": 27,
   "metadata": {},
   "outputs": [
    {
     "data": {
      "text/plain": [
       "3535"
      ]
     },
     "execution_count": 27,
     "metadata": {},
     "output_type": "execute_result"
    }
   ],
   "source": [
    "train_data.shape[1]"
   ]
  },
  {
   "cell_type": "code",
   "execution_count": 26,
   "metadata": {},
   "outputs": [
    {
     "data": {
      "text/plain": [
       "numpy.ndarray"
      ]
     },
     "execution_count": 26,
     "metadata": {},
     "output_type": "execute_result"
    }
   ],
   "source": [
    "type(train_data)"
   ]
  },
  {
   "cell_type": "markdown",
   "metadata": {},
   "source": [
    "## Add Padding to the samples to be on size 3600"
   ]
  },
  {
   "cell_type": "code",
   "execution_count": 34,
   "metadata": {},
   "outputs": [],
   "source": [
    "train_data_resize_list = []\n",
    "total_pad_to_add = 3600 - train_data.shape[1]\n",
    "pad_to_each_axes = total_pad_to_add/2\n",
    "x_axis = math.floor(pad_to_each_axes)\n",
    "y_axis = math.ceil(pad_to_each_axes)\n",
    "for sample in train_data:\n",
    "    train_data_resize_list.append(np.pad(sample, (x_axis,y_axis), 'constant', constant_values=(0, 0)))\n",
    "    "
   ]
  },
  {
   "cell_type": "code",
   "execution_count": 35,
   "metadata": {},
   "outputs": [
    {
     "data": {
      "text/plain": [
       "(4710, 3600)"
      ]
     },
     "execution_count": 35,
     "metadata": {},
     "output_type": "execute_result"
    }
   ],
   "source": [
    "np.float32(np.asarray(train_data_resize_list)).shape"
   ]
  },
  {
   "cell_type": "code",
   "execution_count": 40,
   "metadata": {},
   "outputs": [],
   "source": [
    "aa = train_data_resize_list[100].reshape(60,60)"
   ]
  },
  {
   "cell_type": "code",
   "execution_count": 41,
   "metadata": {},
   "outputs": [
    {
     "data": {
      "image/png": "[encoded data removed]",
      "text/plain": [
       "<Figure size 432x288 with 1 Axes>"
      ]
     },
     "metadata": {},
     "output_type": "display_data"
    }
   ],
   "source": [
    "%matplotlib inline\n",
    "import matplotlib.pyplot as plt\n",
    "plt.imshow(aa)\n",
    "plt.show()"
   ]
  },
  {
   "cell_type": "code",
   "execution_count": null,
   "metadata": {},
   "outputs": [],
   "source": []
  }
 ],
 "metadata": {
  "kernelspec": {
   "display_name": "Python 3",
   "language": "python",
   "name": "python3"
  },
  "language_info": {
   "codemirror_mode": {
    "name": "ipython",
    "version": 3
   },
   "file_extension": ".py",
   "mimetype": "text/x-python",
   "name": "python",
   "nbconvert_exporter": "python",
   "pygments_lexer": "ipython3",
   "version": "3.6.6"
  }
 },
 "nbformat": 4,
 "nbformat_minor": 2
}
