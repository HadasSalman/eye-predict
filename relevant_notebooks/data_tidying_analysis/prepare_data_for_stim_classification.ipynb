{
 "cells": [
  {
   "cell_type": "code",
   "execution_count": 1,
   "metadata": {
    "collapsed": true
   },
   "outputs": [],
   "source": [
    "import numpy as np\n",
    "import pandas as pd \n",
    "%matplotlib inline\n",
    "import matplotlib.pyplot as plot\n",
    "import matplotlib.image as mpimg"
   ]
  },
  {
   "cell_type": "markdown",
   "metadata": {},
   "source": [
    "# Stim Classification preprocessing\n",
    "## Read all expiriments data and concatenate to one dataFrame"
   ]
  },
  {
   "cell_type": "code",
   "execution_count": 204,
   "metadata": {
    "collapsed": true
   },
   "outputs": [],
   "source": [
    "file_name = 'all_subjects_data_bmem_short_BDM'\n",
    "df_bmem_short_BDM = pd.read_pickle('../parsing/' + file_name)\n",
    "file_name = 'scale_ranking_bmm_short_data'\n",
    "df_scale_ranking_bmm_short = pd.read_pickle('../parsing/' + file_name)"
   ]
  },
  {
   "cell_type": "code",
   "execution_count": 205,
   "metadata": {
    "collapsed": true
   },
   "outputs": [],
   "source": [
    "#merge the to datasets to one\n",
    "df = pd.concat([df_bmem_short_BDM,df_scale_ranking_bmm_short])\n"
   ]
  },
  {
   "cell_type": "markdown",
   "metadata": {},
   "source": [
    "## Get only relevant columns"
   ]
  },
  {
   "cell_type": "code",
   "execution_count": 206,
   "metadata": {
    "collapsed": true,
    "scrolled": true
   },
   "outputs": [],
   "source": [
    "#get only relevant columns\n",
    "df = df[['subjectID','trialNum','stimType','stimId','timeStamp','X_axis','Y_axis']]"
   ]
  },
  {
   "cell_type": "markdown",
   "metadata": {},
   "source": [
    "## Tiding the data"
   ]
  },
  {
   "cell_type": "code",
   "execution_count": 207,
   "metadata": {
    "collapsed": true,
    "scrolled": true
   },
   "outputs": [],
   "source": [
    "#Remove Nan\n",
    "tidyDf = df.dropna(how='any')"
   ]
  },
  {
   "cell_type": "code",
   "execution_count": 208,
   "metadata": {
    "collapsed": true,
    "scrolled": true
   },
   "outputs": [],
   "source": [
    "#remove strings \" . \", \"EBLINK\", FIX\", \"SACC\" data rows\n",
    "tidyDf = tidyDf[(tidyDf['timeStamp'].str.contains('EFIX', na=False) == False) &\n",
    "                        (tidyDf['timeStamp'].str.contains('EBLINK', na=False) == False) &\n",
    "          (tidyDf['timeStamp'].str.contains('ESACC', na=False) == False) &\n",
    "               (tidyDf['timeStamp'].str.contains(' . ', na=False) == False)]\n",
    "tidyDf = tidyDf.reset_index()"
   ]
  },
  {
   "cell_type": "code",
   "execution_count": 209,
   "metadata": {
    "collapsed": true
   },
   "outputs": [],
   "source": [
    "#remove data rows of stimId '6', so we use only 'faces' data and not using 'familiar faces' data\n",
    "#this is for convenience, so the data will distributed equally\n",
    "tidyDf = tidyDf[tidyDf['stimId'] != 6]"
   ]
  },
  {
   "cell_type": "code",
   "execution_count": 210,
   "metadata": {
    "collapsed": true
   },
   "outputs": [],
   "source": [
    "# Change X, Y and timeStamp data from String to Numeric\n",
    "tidyDf.X_axis = pd.to_numeric(tidyDf.X_axis, errors='coerce')\n",
    "tidyDf.Y_axis = pd.to_numeric(tidyDf.Y_axis, errors='coerce')\n",
    "tidyDf.timeStamp = pd.to_numeric(tidyDf.timeStamp, errors='coerce')"
   ]
  },
  {
   "cell_type": "code",
   "execution_count": 168,
   "metadata": {
    "collapsed": true,
    "scrolled": true
   },
   "outputs": [],
   "source": [
    "#add 'sampleId' field for each uniqe sample\n",
    "tidyDf['sampleId'] = tidyDf['subjectID'].astype(str) + '_' +tidyDf['trialNum'].astype(str) + '_' + tidyDf['stimId'].astype(str)"
   ]
  },
  {
   "cell_type": "code",
   "execution_count": 169,
   "metadata": {
    "collapsed": true,
    "scrolled": true
   },
   "outputs": [],
   "source": [
    "#set stimId '6' to be '2' so we'll have only 3 classes and update the sampleId to be unique\n",
    "\n",
    "#indexes = tidyDf[tidyDf['stimId'] == 6].index\n",
    "#tidyDf.loc[indexes,'subjectID'] = tidyDf.loc[indexes,'subjectID'] + '_6'\n",
    "#tidyDf.loc[indexes,'stimId'] = 2"
   ]
  },
  {
   "cell_type": "code",
   "execution_count": 191,
   "metadata": {
    "collapsed": true,
    "scrolled": true
   },
   "outputs": [],
   "source": [
    "#get only relevant columns\n",
    "finalDFforStimClassification = tidyDf[['stimType','stimId','sampleId','X_axis','Y_axis']]"
   ]
  },
  {
   "cell_type": "markdown",
   "metadata": {},
   "source": [
    "## Plot the dist of data points to make sure we use the majority of data points"
   ]
  },
  {
   "cell_type": "code",
   "execution_count": 192,
   "metadata": {},
   "outputs": [
    {
     "data": {
      "text/plain": [
       "array([[<matplotlib.axes._subplots.AxesSubplot object at 0x2e1805898>]], dtype=object)"
      ]
     },
     "execution_count": 192,
     "metadata": {},
     "output_type": "execute_result"
    },
    {
     "data": {
      "image/png": "[encoded data removed]",
      "text/plain": [
       "<matplotlib.figure.Figure at 0x314e0b518>"
      ]
     },
     "metadata": {},
     "output_type": "display_data"
    },
    {
     "data": {
      "image/png": "[encoded data removed]",
      "text/plain": [
       "<matplotlib.figure.Figure at 0x314e0b358>"
      ]
     },
     "metadata": {},
     "output_type": "display_data"
    }
   ],
   "source": [
    "#look for the x,y data points distrebution\n",
    "finalDFforStimClassification.hist(column='X_axis',range=[0, 2000])\n",
    "finalDFforStimClassification.hist(column='Y_axis',range=[0, 2000])"
   ]
  },
  {
   "cell_type": "markdown",
   "metadata": {},
   "source": [
    "## Adjust the x,y data points to be within the image frame and in scale of 0-400, rounded "
   ]
  },
  {
   "cell_type": "code",
   "execution_count": 193,
   "metadata": {
    "collapsed": true,
    "scrolled": true
   },
   "outputs": [],
   "source": [
    "finalDFforStimClassification = finalDFforStimClassification[(finalDFforStimClassification['X_axis'] > 760) & \n",
    "                                                            (finalDFforStimClassification['X_axis'] < 1160) &\n",
    "                                                            (finalDFforStimClassification['Y_axis'] > 340) &\n",
    "                                                            (finalDFforStimClassification['Y_axis'] < 740)]\n",
    "\n",
    "finalDFforStimClassification.X_axis = finalDFforStimClassification.X_axis - 760\n",
    "finalDFforStimClassification.Y_axis = finalDFforStimClassification.Y_axis - 340\n",
    "finalDFforStimClassification.X_axis = finalDFforStimClassification.X_axis.round()\n",
    "finalDFforStimClassification.Y_axis = finalDFforStimClassification.Y_axis.round()"
   ]
  },
  {
   "cell_type": "markdown",
   "metadata": {},
   "source": [
    "## Plot the x,y data points by stim type (For motivation)"
   ]
  },
  {
   "cell_type": "code",
   "execution_count": 212,
   "metadata": {
    "scrolled": true
   },
   "outputs": [
    {
     "data": {
      "text/plain": [
       "<matplotlib.axes._subplots.AxesSubplot at 0x234fde668>"
      ]
     },
     "execution_count": 212,
     "metadata": {},
     "output_type": "execute_result"
    },
    {
     "data": {
      "image/png": "[encoded data removed]",
      "text/plain": [
       "<matplotlib.figure.Figure at 0x236a16ac8>"
      ]
     },
     "metadata": {},
     "output_type": "display_data"
    },
    {
     "data": {
      "image/png": "[encoded data removed]",
      "text/plain": [
       "<matplotlib.figure.Figure at 0x22c549c50>"
      ]
     },
     "metadata": {},
     "output_type": "display_data"
    },
    {
     "data": {
      "image/png": "[encoded data removed]",
      "text/plain": [
       "<matplotlib.figure.Figure at 0x248c0d6a0>"
      ]
     },
     "metadata": {},
     "output_type": "display_data"
    }
   ],
   "source": [
    "faceStim = finalDFforStimClassification[finalDFforStimClassification['sampleId'] == 'bmem_short_101_3_2']\n",
    "snackStim = finalDFforStimClassification[finalDFforStimClassification['sampleId'] == 'bmem_short_101_1_1']\n",
    "fractalStim = finalDFforStimClassification[finalDFforStimClassification['sampleId'] == 'bmem_short_101_10_3']\n",
    "\n",
    "faceStim.plot.scatter(x='X_axis', y='Y_axis', figsize=(4,4), ylim = (0, 400), xlim = (0, 400), \n",
    "                    title=\"Face stim data points\")\n",
    "snackStim.plot.scatter(x='X_axis', y='Y_axis', figsize=(4,4), ylim = (0, 400), xlim = (0, 400), \n",
    "                    title=\"snack stim data points\")\n",
    "fractalStim.plot.scatter(x='X_axis', y='Y_axis', figsize=(4,4), ylim = (0, 400), xlim = (0, 400), \n",
    "                    title=\"Fractal stim data points\")"
   ]
  },
  {
   "cell_type": "markdown",
   "metadata": {},
   "source": [
    "## Check and compare the data among the 3 classes"
   ]
  },
  {
   "cell_type": "code",
   "execution_count": 195,
   "metadata": {},
   "outputs": [
    {
     "data": {
      "text/plain": [
       "stimId\n",
       "1    2198\n",
       "2    1830\n",
       "3    1831\n",
       "Name: sampleId, dtype: int64"
      ]
     },
     "execution_count": 195,
     "metadata": {},
     "output_type": "execute_result"
    }
   ],
   "source": [
    "#check the samples distrebution among the labels\n",
    "grouped = finalDFforStimClassification.groupby(['stimId','sampleId']).X_axis.count().reset_index()\n",
    "grouped.groupby(['stimId']).sampleId.count()"
   ]
  },
  {
   "cell_type": "code",
   "execution_count": 196,
   "metadata": {
    "collapsed": true,
    "scrolled": true
   },
   "outputs": [],
   "source": [
    "#remove some of the '1' label data where the data points count is below 200\n",
    "sampelsId = grouped[(grouped['stimId'] == 1) & (grouped['X_axis'] < 200)].sampleId\n",
    "finalDFforStimClassification = finalDFforStimClassification[~finalDFforStimClassification.sampleId.isin(sampelsId)]"
   ]
  },
  {
   "cell_type": "code",
   "execution_count": 218,
   "metadata": {
    "scrolled": true
   },
   "outputs": [
    {
     "data": {
      "text/plain": [
       "stimId\n",
       "1    1835\n",
       "2    1830\n",
       "3    1831\n",
       "Name: sampleId, dtype: int64"
      ]
     },
     "execution_count": 218,
     "metadata": {},
     "output_type": "execute_result"
    }
   ],
   "source": [
    "#check again if the samples are disributed equely\n",
    "grouped2 = finalDFforStimClassification.groupby(['stimId','sampleId']).X_axis.count().reset_index()\n",
    "grouped2.groupby(['stimId']).sampleId.count()"
   ]
  },
  {
   "cell_type": "markdown",
   "metadata": {},
   "source": [
    "## Final data tiding"
   ]
  },
  {
   "cell_type": "code",
   "execution_count": 219,
   "metadata": {
    "collapsed": true
   },
   "outputs": [],
   "source": [
    "#reset index and convert data points to integer\n",
    "finalDFforStimClassification = finalDFforStimClassification.reset_index()\n",
    "finalDFforStimClassification.drop('index', axis=1, inplace=True)\n",
    "finalDFforStimClassification.X_axis = finalDFforStimClassification.X_axis.astype(int)\n",
    "finalDFforStimClassification.Y_axis = finalDFforStimClassification.Y_axis.astype(int)"
   ]
  },
  {
   "cell_type": "markdown",
   "metadata": {},
   "source": [
    "## Save the final dataFrame"
   ]
  },
  {
   "cell_type": "code",
   "execution_count": 221,
   "metadata": {
    "collapsed": true
   },
   "outputs": [],
   "source": [
    "finalDFforStimClassification.to_pickle('final_DF_for_stim_classification')"
   ]
  }
 ],
 "metadata": {
  "kernelspec": {
   "display_name": "Python 3",
   "language": "python",
   "name": "python3"
  },
  "language_info": {
   "codemirror_mode": {
    "name": "ipython",
    "version": 3
   },
   "file_extension": ".py",
   "mimetype": "text/x-python",
   "name": "python",
   "nbconvert_exporter": "python",
   "pygments_lexer": "ipython3",
   "version": "3.6.5"
  }
 },
 "nbformat": 4,
 "nbformat_minor": 2
}
