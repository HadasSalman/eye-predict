{
 "cells": [
  {
   "cell_type": "code",
   "execution_count": null,
   "metadata": {},
   "outputs": [],
   "source": [
    "import numpy as np\n",
    "import pandas as pd\n",
    "import codecs\n",
    "import os\n",
    "import glob "
   ]
  },
  {
   "cell_type": "markdown",
   "metadata": {},
   "source": [
    "# Data Parsing to DF\n",
    "## Parsing time, takes about 1-3 minuets per file/subject\n",
    "### Fill in the relvant STR for directory, indexStartStr, indexEndStr variables according to your local environment"
   ]
  },
  {
   "cell_type": "code",
   "execution_count": null,
   "metadata": {
    "scrolled": true
   },
   "outputs": [],
   "source": [
    "flag = 0\n",
    "# Set directory name that contains output directory with asc and txt files\n",
    "directory = '..//mri_faces'\n",
    "# Set string represents trail start data records\n",
    "indexStartStr = 'trial: 1'  #'TrialStart'\n",
    "# Set string represents trail ends data records\n",
    "indexEndStr = 'Fixation'   #'ScaleStart'\n",
    "\n",
    "#Run over each Ascii file and open it\n",
    "for ascFile in glob.glob(directory +'//*asc'):\n",
    "    ascFileName = os.path.basename(ascFile)\n",
    "    tempList = ascFileName.split('_')\n",
    "    subjectIntId = tempList[2]\n",
    "    print('Log.....Getting Ascii file data - ' + ascFileName)\n",
    "    ascFile = codecs.open(directory + '//' + ascFileName, encoding='utf-8-sig')\n",
    "\n",
    "    ascData = ascFile.readlines()\n",
    "    #Split data to columns and get only relevnt ones\n",
    "    ascDf = pd.DataFrame(ascData,columns = ['data'])\n",
    "    ascDf = ascDf['data'].apply(lambda x: pd.Series(x.split('\\t')))\n",
    "    ascDf = ascDf[[0,1,2]]\n",
    "    print('Log.....Getting txt file data for subject id - ' + subjectIntId)\n",
    "    \n",
    "    #Read txt file of subject same subject as asc file\n",
    "    txtFileName = os.path.basename(glob.glob(directory + '//*' + subjectIntId + '*txt')[0])\n",
    "    txtData = pd.read_table(directory + '//' + txtFileName)\n",
    "    # Get number of trials and subject ID\n",
    "    trialCount = txtData.count()[0]\n",
    "    #subjectId = txtData['subjectID'][0]\n",
    "    print('Log.....Runing over all trials of subject id - '+subjectIntId)\n",
    "    # Run over all trials per user and merge the asc data with the txt data\n",
    "    for trial in range(trialCount):\n",
    "        trial_str = 'trial: ' + str(trial+1).zfill(0)\n",
    "        indexStart = ascDf[ascDf[1].str.contains(indexStartStr, na=False) & \n",
    "                                            ascDf[1].str.contains(trial_str, na=False)].index[0]+1\n",
    "        indexEnd = ascDf[ascDf[1].str.contains(indexEndStr, na=False) & \n",
    "                                          ascDf[1].str.contains(trial_str, na=False)].index[0]-1\n",
    "        #Get the data, starting from 'TrialStart' to subjects 'Response'\n",
    "        trialData = ascDf.loc[indexStart:indexEnd]\n",
    "        trialData['subjectID'] = subjectIntId\n",
    "        trialData['runtrial'] = trial+1\n",
    "        mergeData = pd.merge(txtData, trialData)\n",
    "        if(trial+1 == 1):\n",
    "            allTrialsData = pd.DataFrame(columns = mergeData.columns)\n",
    "        allTrialsData = pd.concat([allTrialsData,mergeData])\n",
    "        print('Log.....'+'Trial'+str(trial+1).zfill(3))\n",
    "    \n",
    "    #Appending all data to one DataFrame\n",
    "    if flag == 0:\n",
    "        allSubjectsData = pd.DataFrame(columns = allTrialsData.columns)\n",
    "        flag = 1\n",
    "    allSubjectsData = pd.concat([allSubjectsData,allTrialsData])\n",
    "    \n",
    "# Rename columns if needed\n",
    "#allSubjectsData.columns = ['subjectID','trialNum','onsettime','stimName','bid','RT','stimType','stimId',\n",
    "#                         'timeStamp','X_axis','Y_axis' ]\n",
    "    \n",
    "    \n"
   ]
  },
  {
   "cell_type": "markdown",
   "metadata": {},
   "source": [
    "# DF to pickle"
   ]
  },
  {
   "cell_type": "code",
   "execution_count": null,
   "metadata": {
    "scrolled": true
   },
   "outputs": [],
   "source": [
    "#Store all subjects data DF as pikle\n",
    "allSubjectsData.to_pickle('scale_ranking_bmm_short_data')"
   ]
  },
  {
   "cell_type": "code",
   "execution_count": null,
   "metadata": {},
   "outputs": [],
   "source": [
    "#Read pikle into DF\n",
    "file_name = 'scale_ranking_bmm_short_data'\n",
    "df = pd.read_pickle(file_name)"
   ]
  }
 ],
 "metadata": {
  "kernelspec": {
   "display_name": "Python 3",
   "language": "python",
   "name": "python3"
  },
  "language_info": {
   "codemirror_mode": {
    "name": "ipython",
    "version": 3
   },
   "file_extension": ".py",
   "mimetype": "text/x-python",
   "name": "python",
   "nbconvert_exporter": "python",
   "pygments_lexer": "ipython3",
   "version": "3.6.5"
  }
 },
 "nbformat": 4,
 "nbformat_minor": 2
}
